{
 "cells": [
  {
   "cell_type": "markdown",
   "metadata": {},
   "source": [
    "# Ch `10`: Concept `03`"
   ]
  },
  {
   "cell_type": "markdown",
   "metadata": {},
   "source": [
    "## Recurrent Neural Network on real data"
   ]
  },
  {
   "cell_type": "code",
   "execution_count": null,
   "metadata": {},
   "outputs": [],
   "source": []
  },
  {
   "cell_type": "code",
   "execution_count": 1,
   "metadata": {},
   "outputs": [],
   "source": [
    "%matplotlib inline\n",
    "import numpy as np\n",
    "import tensorflow as tf\n",
    "from tensorflow.contrib import rnn\n",
    "import data_loader\n",
    "import matplotlib.pyplot as plt\n",
    "\n",
    "class SeriesPredictor:\n",
    "\n",
    "    def __init__(self, input_dim, seq_size, hidden_dim):\n",
    "        # Hyperparameters\n",
    "        self.input_dim = input_dim\n",
    "        self.seq_size = seq_size\n",
    "        self.hidden_dim = hidden_dim\n",
    "\n",
    "        # Weight variables and input placeholders\n",
    "        self.W_out = tf.Variable(tf.random_normal([hidden_dim, 1]), name='W_out')\n",
    "        self.b_out = tf.Variable(tf.random_normal([1]), name='b_out')\n",
    "        self.x = tf.placeholder(tf.float32, [None, seq_size, input_dim])\n",
    "        self.y = tf.placeholder(tf.float32, [None, seq_size])\n",
    "\n",
    "        # Cost optimizer\n",
    "        self.cost = tf.reduce_mean(tf.square(self.model() - self.y))\n",
    "        self.train_op = tf.train.AdamOptimizer(learning_rate=0.01).minimize(self.cost)\n",
    "\n",
    "        # Auxiliary ops\n",
    "        self.saver = tf.train.Saver()\n",
    "\n",
    "    def model(self):\n",
    "        \"\"\"\n",
    "        :param x: inputs of size [T, batch_size, input_size]\n",
    "        :param W: matrix of fully-connected output layer weights\n",
    "        :param b: vector of fully-connected output layer biases\n",
    "        \"\"\"\n",
    "        cell = rnn.BasicLSTMCell(self.hidden_dim)\n",
    "        outputs, states = tf.nn.dynamic_rnn(cell, self.x, dtype=tf.float32)\n",
    "        num_examples = tf.shape(self.x)[0]\n",
    "        W_repeated = tf.tile(tf.expand_dims(self.W_out, 0), [num_examples, 1, 1])\n",
    "        out = tf.matmul(outputs, W_repeated) + self.b_out\n",
    "        out = tf.squeeze(out)\n",
    "        return out\n",
    "\n",
    "    def train(self, train_x, train_y, test_x, test_y):\n",
    "        with tf.Session() as sess:\n",
    "            tf.get_variable_scope().reuse_variables()\n",
    "            sess.run(tf.global_variables_initializer())\n",
    "            max_patience = 3\n",
    "            patience = max_patience\n",
    "            min_test_err = float('inf')\n",
    "            step = 0\n",
    "            while patience > 0:\n",
    "                _, train_err = sess.run([self.train_op, self.cost], feed_dict={self.x: train_x, self.y: train_y})\n",
    "                if step % 100 == 0:\n",
    "                    test_err = sess.run(self.cost, feed_dict={self.x: test_x, self.y: test_y})\n",
    "                    print('step: {}\\t\\ttrain err: {}\\t\\ttest err: {}'.format(step, train_err, test_err))\n",
    "                    if test_err < min_test_err:\n",
    "                        min_test_err = test_err\n",
    "                        patience = max_patience\n",
    "                    else:\n",
    "                        patience -= 1\n",
    "                step += 1\n",
    "            save_path = self.saver.save(sess, 'model.ckpt')\n",
    "            print('Model saved to {}'.format(save_path))\n",
    "\n",
    "    def test(self, sess, test_x):\n",
    "        tf.get_variable_scope().reuse_variables()\n",
    "        self.saver.restore(sess, './model.ckpt')\n",
    "        output = sess.run(self.model(), feed_dict={self.x: test_x})\n",
    "        return output"
   ]
  },
  {
   "cell_type": "code",
   "execution_count": null,
   "metadata": {},
   "outputs": [],
   "source": []
  },
  {
   "cell_type": "code",
   "execution_count": 2,
   "metadata": {},
   "outputs": [],
   "source": [
    "def plot_results(train_x, predictions, actual, filename):\n",
    "    plt.figure()\n",
    "    num_train = len(train_x)\n",
    "    plt.plot(list(range(num_train)), train_x, color='b', label='training data')\n",
    "    plt.plot(list(range(num_train, num_train + len(predictions))), predictions, color='r', label='predicted')\n",
    "    plt.plot(list(range(num_train, num_train + len(actual))), actual, color='g', label='test data')\n",
    "    plt.legend()\n",
    "    if filename is not None:\n",
    "        plt.savefig(filename)\n",
    "    else:\n",
    "        plt.show()"
   ]
  },
  {
   "cell_type": "code",
   "execution_count": null,
   "metadata": {},
   "outputs": [],
   "source": []
  },
  {
   "cell_type": "code",
   "execution_count": 3,
   "metadata": {},
   "outputs": [
    {
     "name": "stdout",
     "output_type": "stream",
     "text": [
      "WARNING:tensorflow:From C:\\Users\\Eugenio\\Anaconda3\\lib\\site-packages\\tensorflow\\python\\framework\\op_def_library.py:263: colocate_with (from tensorflow.python.framework.ops) is deprecated and will be removed in a future version.\n",
      "Instructions for updating:\n",
      "Colocations handled automatically by placer.\n",
      "WARNING:tensorflow:From <ipython-input-1-ef39e0a7efa3>:35: BasicLSTMCell.__init__ (from tensorflow.python.ops.rnn_cell_impl) is deprecated and will be removed in a future version.\n",
      "Instructions for updating:\n",
      "This class is equivalent as tf.keras.layers.LSTMCell, and will be replaced by that in Tensorflow 2.0.\n",
      "WARNING:tensorflow:From <ipython-input-1-ef39e0a7efa3>:36: dynamic_rnn (from tensorflow.python.ops.rnn) is deprecated and will be removed in a future version.\n",
      "Instructions for updating:\n",
      "Please use `keras.layers.RNN(cell)`, which is equivalent to this API\n",
      "WARNING:tensorflow:From C:\\Users\\Eugenio\\Anaconda3\\lib\\site-packages\\tensorflow\\python\\ops\\math_ops.py:3066: to_int32 (from tensorflow.python.ops.math_ops) is deprecated and will be removed in a future version.\n",
      "Instructions for updating:\n",
      "Use tf.cast instead.\n",
      "step: 0\t\ttrain err: 4.362044334411621\t\ttest err: 5.349355220794678\n",
      "step: 100\t\ttrain err: 0.0440879724919796\t\ttest err: 0.2218017876148224\n",
      "step: 200\t\ttrain err: 0.041623555123806\t\ttest err: 0.22827666997909546\n",
      "step: 300\t\ttrain err: 0.040478743612766266\t\ttest err: 0.25409939885139465\n",
      "step: 400\t\ttrain err: 0.03967950865626335\t\ttest err: 0.3180024325847626\n",
      "Model saved to model.ckpt\n",
      "WARNING:tensorflow:From C:\\Users\\Eugenio\\Anaconda3\\lib\\site-packages\\tensorflow\\python\\training\\saver.py:1266: checkpoint_exists (from tensorflow.python.training.checkpoint_management) is deprecated and will be removed in a future version.\n",
      "Instructions for updating:\n",
      "Use standard file APIs to check for files with this prefix.\n",
      "INFO:tensorflow:Restoring parameters from ./model.ckpt\n",
      "predicted_vals (22,)\n",
      "INFO:tensorflow:Restoring parameters from ./model.ckpt\n",
      "INFO:tensorflow:Restoring parameters from ./model.ckpt\n",
      "INFO:tensorflow:Restoring parameters from ./model.ckpt\n",
      "INFO:tensorflow:Restoring parameters from ./model.ckpt\n",
      "INFO:tensorflow:Restoring parameters from ./model.ckpt\n",
      "INFO:tensorflow:Restoring parameters from ./model.ckpt\n",
      "INFO:tensorflow:Restoring parameters from ./model.ckpt\n",
      "INFO:tensorflow:Restoring parameters from ./model.ckpt\n",
      "INFO:tensorflow:Restoring parameters from ./model.ckpt\n",
      "INFO:tensorflow:Restoring parameters from ./model.ckpt\n",
      "INFO:tensorflow:Restoring parameters from ./model.ckpt\n",
      "INFO:tensorflow:Restoring parameters from ./model.ckpt\n",
      "INFO:tensorflow:Restoring parameters from ./model.ckpt\n",
      "INFO:tensorflow:Restoring parameters from ./model.ckpt\n",
      "INFO:tensorflow:Restoring parameters from ./model.ckpt\n",
      "INFO:tensorflow:Restoring parameters from ./model.ckpt\n",
      "INFO:tensorflow:Restoring parameters from ./model.ckpt\n",
      "INFO:tensorflow:Restoring parameters from ./model.ckpt\n",
      "INFO:tensorflow:Restoring parameters from ./model.ckpt\n",
      "INFO:tensorflow:Restoring parameters from ./model.ckpt\n"
     ]
    },
    {
     "data": {
      "image/png": "[encoded data removed]",
      "text/plain": [
       "<Figure size 432x288 with 1 Axes>"
      ]
     },
     "metadata": {
      "needs_background": "light"
     },
     "output_type": "display_data"
    },
    {
     "data": {
      "image/png": "[encoded data removed]",
      "text/plain": [
       "<Figure size 432x288 with 1 Axes>"
      ]
     },
     "metadata": {
      "needs_background": "light"
     },
     "output_type": "display_data"
    }
   ],
   "source": [
    "if __name__ == '__main__':\n",
    "    seq_size = 5\n",
    "    predictor = SeriesPredictor(input_dim=1, seq_size=seq_size, hidden_dim=100)\n",
    "    data = data_loader.load_series('international-airline-passengers.csv')\n",
    "    train_data, actual_vals = data_loader.split_data(data)\n",
    "\n",
    "    train_x, train_y = [], []\n",
    "    for i in range(len(train_data) - seq_size - 1):\n",
    "        train_x.append(np.expand_dims(train_data[i:i+seq_size], axis=1).tolist())\n",
    "        train_y.append(train_data[i+1:i+seq_size+1])\n",
    "\n",
    "    test_x, test_y = [], []\n",
    "    for i in range(len(actual_vals) - seq_size - 1):\n",
    "        test_x.append(np.expand_dims(actual_vals[i:i+seq_size], axis=1).tolist())\n",
    "        test_y.append(actual_vals[i+1:i+seq_size+1])\n",
    "\n",
    "    predictor.train(train_x, train_y, test_x, test_y)\n",
    "\n",
    "    with tf.Session() as sess:\n",
    "        predicted_vals = predictor.test(sess, test_x)[:,0]\n",
    "        print('predicted_vals', np.shape(predicted_vals))\n",
    "        plot_results(train_data, predicted_vals, actual_vals, 'predictions.png')\n",
    "\n",
    "        prev_seq = train_x[-1]\n",
    "        predicted_vals = []\n",
    "        for i in range(20):\n",
    "            next_seq = predictor.test(sess, [prev_seq])\n",
    "            predicted_vals.append(next_seq[-1])\n",
    "            prev_seq = np.vstack((prev_seq[1:], next_seq[-1]))\n",
    "        plot_results(train_data, predicted_vals, actual_vals, 'hallucinations.png')"
   ]
  },
  {
   "cell_type": "code",
   "execution_count": null,
   "metadata": {},
   "outputs": [],
   "source": []
  },
  {
   "cell_type": "code",
   "execution_count": null,
   "metadata": {},
   "outputs": [],
   "source": []
  },
  {
   "cell_type": "code",
   "execution_count": null,
   "metadata": {},
   "outputs": [],
   "source": []
  }
 ],
 "metadata": {
  "kernelspec": {
   "display_name": "Python 3",
   "language": "python",
   "name": "python3"
  },
  "language_info": {
   "codemirror_mode": {
    "name": "ipython",
    "version": 3
   },
   "file_extension": ".py",
   "mimetype": "text/x-python",
   "name": "python",
   "nbconvert_exporter": "python",
   "pygments_lexer": "ipython3",
   "version": "3.7.3"
  }
 },
 "nbformat": 4,
 "nbformat_minor": 1
}
