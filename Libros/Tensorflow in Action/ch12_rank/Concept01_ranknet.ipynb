{
 "cells": [
  {
   "cell_type": "markdown",
   "metadata": {},
   "source": [
    "# Ch `12`: Concept `01`"
   ]
  },
  {
   "cell_type": "markdown",
   "metadata": {},
   "source": [
    "## Ranking by neural network"
   ]
  },
  {
   "cell_type": "markdown",
   "metadata": {},
   "source": [
    "Import the relevant libraries"
   ]
  },
  {
   "cell_type": "code",
   "execution_count": 1,
   "metadata": {},
   "outputs": [],
   "source": [
    "import tensorflow as tf\n",
    "import numpy as np\n",
    "import random\n",
    "\n",
    "%matplotlib inline\n",
    "import matplotlib.pyplot as plt"
   ]
  },
  {
   "cell_type": "markdown",
   "metadata": {},
   "source": [
    "Let's fabricate some data. We'll call `get_data()` to generate two datasets: `data_a` and `data_b`.\n",
    "\n",
    "We'll use the convention that points in `data_a` are ranked lower than those in `data_b`. So we need to learn a ranking function (i.e. utility function) that scores points in `data_a` lower. "
   ]
  },
  {
   "cell_type": "code",
   "execution_count": 2,
   "metadata": {},
   "outputs": [
    {
     "data": {
      "image/png": "[encoded data removed]",
      "text/plain": [
       "<Figure size 432x288 with 1 Axes>"
      ]
     },
     "metadata": {
      "needs_background": "light"
     },
     "output_type": "display_data"
    }
   ],
   "source": [
    "n_features = 2\n",
    "\n",
    "def get_data():\n",
    "    data_a = np.random.rand(10, n_features) + 1\n",
    "    data_b = np.random.rand(10, n_features)\n",
    "    \n",
    "    plt.scatter(data_a[:, 0], data_a[:, 1], c='r', marker='x')\n",
    "    plt.scatter(data_b[:, 0], data_b[:, 1], c='g', marker='o')\n",
    "    plt.show()\n",
    "    \n",
    "    return data_a, data_b\n",
    "\n",
    "def get_data2():\n",
    "    data_a = np.asarray([[0.1, 0.9], [0.1, 0.8]])\n",
    "    data_b = np.asarray([[0.4,0.05], [0.45, 0.1]])\n",
    "    \n",
    "    plt.scatter(data_a[:, 0], data_a[:, 1], c='r', marker='x')\n",
    "    plt.scatter(data_b[:, 0], data_b[:, 1], c='g', marker='o')\n",
    "    plt.xlim([0, 0.5])\n",
    "    plt.ylim([0, 1])\n",
    "    plt.axes().set_aspect('equal')\n",
    "    plt.show()\n",
    "    \n",
    "    \n",
    "    return data_a, data_b\n",
    "\n",
    "data_a, data_b = get_data()"
   ]
  },
  {
   "cell_type": "markdown",
   "metadata": {},
   "source": [
    "Now, let's define our ranking model. It'll take in two items (`x1` and `x2`), and return a score (`s1` and `s2`) for each item. \n",
    "\n",
    "Our model introduces a hyper-parameter called `n_hidden` to tweak the number of neurons in the hidden layer of the network."
   ]
  },
  {
   "cell_type": "code",
   "execution_count": 3,
   "metadata": {},
   "outputs": [],
   "source": [
    "n_hidden = 10"
   ]
  },
  {
   "cell_type": "markdown",
   "metadata": {},
   "source": [
    "When defining the model, let's organize it into separate scopes. That way, the TensorBoard visualization will look very clean."
   ]
  },
  {
   "cell_type": "code",
   "execution_count": 4,
   "metadata": {},
   "outputs": [
    {
     "name": "stdout",
     "output_type": "stream",
     "text": [
      "WARNING:tensorflow:From C:\\Users\\Eugenio\\Anaconda3\\lib\\site-packages\\tensorflow\\python\\framework\\op_def_library.py:263: colocate_with (from tensorflow.python.framework.ops) is deprecated and will be removed in a future version.\n",
      "Instructions for updating:\n",
      "Colocations handled automatically by placer.\n",
      "WARNING:tensorflow:From <ipython-input-4-d6246b3c340f>:15: calling dropout (from tensorflow.python.ops.nn_ops) with keep_prob is deprecated and will be removed in a future version.\n",
      "Instructions for updating:\n",
      "Please use `rate` instead of `keep_prob`. Rate should be set to `rate = 1 - keep_prob`.\n"
     ]
    }
   ],
   "source": [
    "with tf.name_scope(\"input\"):\n",
    "    x1 = tf.placeholder(tf.float32, [None, n_features], name=\"x1\")\n",
    "    x2 = tf.placeholder(tf.float32, [None, n_features], name=\"x2\")\n",
    "    dropout_keep_prob = tf.placeholder(tf.float32, name='dropout_prob')\n",
    "\n",
    "\n",
    "with tf.name_scope(\"hidden_layer\"):\n",
    "    with tf.name_scope(\"weights\"):\n",
    "        w1 = tf.Variable(tf.random_normal([n_features, n_hidden]), name=\"w1\")\n",
    "        tf.summary.histogram(\"w1\", w1)\n",
    "        b1 = tf.Variable(tf.random_normal([n_hidden]), name=\"b1\")\n",
    "        tf.summary.histogram(\"b1\", b1)\n",
    " \n",
    "    with tf.name_scope(\"output\"):\n",
    "        h1 = tf.nn.dropout(tf.nn.relu(tf.matmul(x1,w1) + b1), keep_prob=dropout_keep_prob)\n",
    "        tf.summary.histogram(\"h1\", h1)\n",
    "        h2 = tf.nn.dropout(tf.nn.relu(tf.matmul(x2, w1) + b1), keep_prob=dropout_keep_prob)\n",
    "        tf.summary.histogram(\"h2\", h2)\n",
    " \n",
    "\n",
    "with tf.name_scope(\"output_layer\"):\n",
    "    with tf.name_scope(\"weights\"):\n",
    "        w2 = tf.Variable(tf.random_normal([n_hidden, 1]), name=\"w2\")\n",
    "        tf.summary.histogram(\"w2\", w2)\n",
    "        b2 = tf.Variable(tf.random_normal([1]), name=\"b2\")\n",
    "        tf.summary.histogram(\"b2\", b2)\n",
    " \n",
    "    with tf.name_scope(\"output\"):\n",
    "        s1 = tf.matmul(h1, w2) + b2\n",
    "        s2 = tf.matmul(h2, w2) + b2"
   ]
  },
  {
   "cell_type": "markdown",
   "metadata": {},
   "source": [
    "The loss function will involve comparing `s1` and `s2`. \n",
    "\n",
    "Since we're trying to acheive the inequality `Score(x1) < Score(x2)`, we need the loss function to insinuate `s1 < s2`. \n",
    "\n",
    "In other words, the loss function tries to guarantee that `s1 - s2 < 0`. "
   ]
  },
  {
   "cell_type": "code",
   "execution_count": 6,
   "metadata": {},
   "outputs": [],
   "source": [
    "with tf.name_scope(\"loss\"):\n",
    "    s12 = s1 - s2\n",
    "    s12_flat = tf.reshape(s12, [-1])\n",
    "    \n",
    "    pred = tf.sigmoid(s12)\n",
    "    lable_p = tf.sigmoid(-tf.ones_like(s12))\n",
    "    \n",
    "    cross_entropy = tf.nn.softmax_cross_entropy_with_logits(labels=tf.zeros_like(s12_flat), logits=s12_flat + 1)\n",
    "    \n",
    "    loss = tf.reduce_mean(cross_entropy)\n",
    "    tf.summary.scalar(\"loss\", loss)\n",
    " \n",
    "with tf.name_scope(\"train_op\"):\n",
    "    train_op = tf.train.AdamOptimizer(0.001).minimize(loss)"
   ]
  },
  {
   "cell_type": "markdown",
   "metadata": {},
   "source": [
    "Start the session and prepare peripheral ops."
   ]
  },
  {
   "cell_type": "code",
   "execution_count": 7,
   "metadata": {},
   "outputs": [],
   "source": [
    "sess = tf.InteractiveSession()\n",
    "summary_op = tf.summary.merge_all()\n",
    "writer = tf.summary.FileWriter(\"tb_files\", sess.graph)\n",
    "init = tf.global_variables_initializer()\n",
    "sess.run(init)"
   ]
  },
  {
   "cell_type": "markdown",
   "metadata": {},
   "source": [
    "Train the model with the training data."
   ]
  },
  {
   "cell_type": "code",
   "execution_count": 7,
   "metadata": {
    "collapsed": true,
    "scrolled": true
   },
   "outputs": [],
   "source": [
    "for epoch in range(0, 10000):\n",
    "    loss_val, _ = sess.run([loss, train_op], feed_dict={x1:data_a, x2:data_b, dropout_keep_prob:0.5})\n",
    "    if epoch % 100 == 0 :\n",
    "        summary_result = sess.run(summary_op, feed_dict={x1:data_a, x2:data_b, dropout_keep_prob:1})\n",
    "        writer.add_summary(summary_result, epoch)\n",
    "#         print(\"Epoch {}: Loss {}\".format(epoch, loss_val))"
   ]
  },
  {
   "cell_type": "markdown",
   "metadata": {},
   "source": [
    "Visualize the results on a grid by accumulating a list of points to test."
   ]
  },
  {
   "cell_type": "code",
   "execution_count": 8,
   "metadata": {},
   "outputs": [],
   "source": [
    "grid_size = 10\n",
    "data_test = []\n",
    "for y in np.linspace(0., 1., num=grid_size):\n",
    "    for x in np.linspace(0., 1., num=grid_size):\n",
    "        data_test.append([x, y])"
   ]
  },
  {
   "cell_type": "markdown",
   "metadata": {},
   "source": [
    "Run the model on all the test points and visualize the utility scores of each point by a color."
   ]
  },
  {
   "cell_type": "code",
   "execution_count": 9,
   "metadata": {},
   "outputs": [],
   "source": [
    "\n",
    "def visualize_results(data_test):\n",
    "    plt.figure()\n",
    "    scores_test = sess.run(s1, feed_dict={x1:data_test, dropout_keep_prob:1})\n",
    "    scores_img = np.reshape(scores_test, [grid_size, grid_size])\n",
    "    plt.imshow(scores_img, origin='lower')\n",
    "    plt.colorbar()"
   ]
  },
  {
   "cell_type": "code",
   "execution_count": 10,
   "metadata": {},
   "outputs": [
    {
     "data": {
      "image/png": "[encoded data removed]",
      "text/plain": [
       "<Figure size 432x288 with 2 Axes>"
      ]
     },
     "metadata": {
      "needs_background": "light"
     },
     "output_type": "display_data"
    }
   ],
   "source": [
    "visualize_results(data_test)"
   ]
  }
 ],
 "metadata": {
  "kernelspec": {
   "display_name": "Python 3",
   "language": "python",
   "name": "python3"
  },
  "language_info": {
   "codemirror_mode": {
    "name": "ipython",
    "version": 3
   },
   "file_extension": ".py",
   "mimetype": "text/x-python",
   "name": "python",
   "nbconvert_exporter": "python",
   "pygments_lexer": "ipython3",
   "version": "3.7.3"
  }
 },
 "nbformat": 4,
 "nbformat_minor": 2
}
