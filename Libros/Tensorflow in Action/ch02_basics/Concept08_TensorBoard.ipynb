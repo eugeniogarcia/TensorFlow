{
 "cells": [
  {
   "cell_type": "markdown",
   "metadata": {},
   "source": [
    "# Ch `02`: Concept `08`"
   ]
  },
  {
   "cell_type": "markdown",
   "metadata": {},
   "source": [
    "## Using TensorBoard"
   ]
  },
  {
   "cell_type": "markdown",
   "metadata": {},
   "source": [
    "TensorBoard is a great way to visualize what's happening behind the code. \n",
    "\n",
    "In this example, we'll loop through some numbers to improve our guess of the average value. Then we can visualize the results on TensorBoard. \n",
    "\n",
    "Let's just set ourselves up with some data to work with:"
   ]
  },
  {
   "cell_type": "code",
   "execution_count": 1,
   "metadata": {},
   "outputs": [],
   "source": [
    "import tensorflow as tf\n",
    "import numpy as np\n",
    "\n",
    "raw_data = np.random.normal(10, 1, 100)"
   ]
  },
  {
   "cell_type": "markdown",
   "metadata": {},
   "source": [
    "The moving average is defined as follows:"
   ]
  },
  {
   "cell_type": "code",
   "execution_count": 2,
   "metadata": {},
   "outputs": [
    {
     "name": "stdout",
     "output_type": "stream",
     "text": [
      "WARNING:tensorflow:From C:\\Users\\Eugenio\\Anaconda3\\lib\\site-packages\\tensorflow\\python\\framework\\op_def_library.py:263: colocate_with (from tensorflow.python.framework.ops) is deprecated and will be removed in a future version.\n",
      "Instructions for updating:\n",
      "Colocations handled automatically by placer.\n"
     ]
    }
   ],
   "source": [
    "alpha = tf.constant(0.05)\n",
    "curr_value = tf.placeholder(tf.float32)\n",
    "prev_avg = tf.Variable(0.)\n",
    "\n",
    "update_avg = alpha * curr_value + (1 - alpha) * prev_avg"
   ]
  },
  {
   "cell_type": "markdown",
   "metadata": {},
   "source": [
    "Here's what we care to visualize:"
   ]
  },
  {
   "cell_type": "code",
   "execution_count": 3,
   "metadata": {},
   "outputs": [],
   "source": [
    "avg_hist = tf.summary.scalar(\"running_average\", update_avg)\n",
    "value_hist = tf.summary.scalar(\"incoming_values\", curr_value)\n",
    "\n",
    "merged = tf.summary.merge_all()\n",
    "writer = tf.summary.FileWriter(\"./logs\")"
   ]
  },
  {
   "cell_type": "markdown",
   "metadata": {},
   "source": [
    "Time to compute the moving averages. We'll also run the `merged` op to track how the values change:"
   ]
  },
  {
   "cell_type": "code",
   "execution_count": 4,
   "metadata": {},
   "outputs": [
    {
     "name": "stdout",
     "output_type": "stream",
     "text": [
      "9.540927067215739 0.47704634\n",
      "10.37284961643665 0.9718365\n",
      "10.173197227741214 1.4319046\n",
      "10.152229769602037 1.8679209\n",
      "10.305471482179016 2.2897983\n",
      "8.555685187421304 2.6030924\n",
      "12.138747501262102 3.0798752\n",
      "9.368014358455772 3.394282\n",
      "9.871937508158384 3.7181647\n",
      "11.387278954118091 4.10162\n",
      "10.395576830693805 4.416318\n",
      "10.083890476640347 4.6996965\n",
      "12.988284353444065 5.1141257\n",
      "9.42877245461168 5.329858\n",
      "11.136168044483098 5.6201735\n",
      "10.504861120273164 5.8644075\n",
      "10.553821820818214 6.098878\n",
      "10.337792817357027 6.3108234\n",
      "9.60622738856689 6.4755936\n",
      "11.380157239669368 6.720822\n",
      "10.078674282164311 6.888715\n",
      "12.552961260197517 7.171927\n",
      "9.77679342245097 7.3021703\n",
      "8.305170946919969 7.35232\n",
      "10.495276309314905 7.509468\n",
      "9.648961054254055 7.6164427\n",
      "9.133723962440754 7.6923065\n",
      "9.752617957451115 7.795322\n",
      "11.546343400790214 7.982873\n",
      "9.993020561895735 8.083381\n",
      "9.627264460271515 8.160575\n",
      "10.121411089998753 8.258616\n",
      "11.147157817593518 8.403044\n",
      "8.55304268990619 8.410543\n",
      "9.704953955965282 8.475264\n",
      "10.708012611026724 8.586901\n",
      "10.493118210729543 8.682212\n",
      "8.907492014344582 8.693476\n",
      "10.247807589501146 8.771192\n",
      "11.230035040708444 8.894134\n",
      "9.255758041938458 8.912214\n",
      "11.591084671033476 9.046158\n",
      "8.723590216985958 9.030029\n",
      "10.300270175639294 9.093541\n",
      "9.103731230418356 9.09405\n",
      "10.529724055886748 9.165834\n",
      "8.682898404303579 9.141687\n",
      "8.92795473404425 9.1310005\n",
      "10.399609880652504 9.19443\n",
      "9.209001615142254 9.195159\n",
      "9.960202893729928 9.233412\n",
      "8.240022423951725 9.183743\n",
      "10.098309049697368 9.22947\n",
      "8.838684979166118 9.209931\n",
      "9.63027075627252 9.230948\n",
      "9.431957207100892 9.240998\n",
      "9.271608798773057 9.242528\n",
      "7.63292951815812 9.162047\n",
      "10.985190194074265 9.253204\n",
      "10.526773546123641 9.316882\n",
      "9.963917599100789 9.349234\n",
      "9.727083794499142 9.368126\n",
      "11.40256019795154 9.469848\n",
      "11.299038461056574 9.561307\n",
      "11.425961232019521 9.654539\n",
      "10.77691223770317 9.710658\n",
      "9.297579584540527 9.690004\n",
      "11.029462471973906 9.756977\n",
      "10.401666914363044 9.789211\n",
      "10.241251415249966 9.811813\n",
      "9.012477818352833 9.771846\n",
      "8.784049505136487 9.722456\n",
      "8.564626783155383 9.664564\n",
      "10.43988454622458 9.70333\n",
      "11.875974105527128 9.811962\n",
      "12.693776285640823 9.956052\n",
      "9.05813872390897 9.911156\n",
      "10.062267536965296 9.918712\n",
      "11.187944997824058 9.982174\n",
      "10.540072435489485 10.010068\n",
      "10.239036975964222 10.021516\n",
      "9.83839269244485 10.01236\n",
      "11.603795902480547 10.091931\n",
      "8.427348701075953 10.008702\n",
      "10.639972303387875 10.040266\n",
      "7.55812169117239 9.916159\n",
      "8.770551324628771 9.858879\n",
      "10.79317964578032 9.905594\n",
      "10.521817801719482 9.936404\n",
      "9.377996767352755 9.9084835\n",
      "9.685250894115494 9.897322\n",
      "8.871459147923098 9.846028\n",
      "11.200923863431465 9.913773\n",
      "11.019179675353133 9.969043\n",
      "9.841573861506948 9.962669\n",
      "10.520663889959906 9.990569\n",
      "10.221080249258408 10.002094\n",
      "8.790370196440117 9.941508\n",
      "8.58681063306336 9.873774\n",
      "11.003441198323111 9.930257\n"
     ]
    }
   ],
   "source": [
    "init = tf.global_variables_initializer()\n",
    "\n",
    "with tf.Session() as sess:\n",
    "    sess.run(init)\n",
    "    for i in range(len(raw_data)):\n",
    "        summary_str, curr_avg = sess.run([merged, update_avg], feed_dict={curr_value: raw_data[i]})\n",
    "        sess.run(tf.assign(prev_avg, curr_avg))\n",
    "        print(raw_data[i], curr_avg)\n",
    "        writer.add_summary(summary_str, i)"
   ]
  },
  {
   "cell_type": "markdown",
   "metadata": {},
   "source": [
    "Check out the visualization by running TensorBoard from the terminal:\n",
    "\n",
    "    $ tensorboard --logdir=path/to/logs"
   ]
  },
  {
   "cell_type": "code",
   "execution_count": 5,
   "metadata": {},
   "outputs": [],
   "source": [
    "#made the logs be written successfully\n",
    "writer.close()"
   ]
  },
  {
   "cell_type": "code",
   "execution_count": null,
   "metadata": {},
   "outputs": [],
   "source": []
  }
 ],
 "metadata": {
  "kernelspec": {
   "display_name": "Python 3",
   "language": "python",
   "name": "python3"
  },
  "language_info": {
   "codemirror_mode": {
    "name": "ipython",
    "version": 3
   },
   "file_extension": ".py",
   "mimetype": "text/x-python",
   "name": "python",
   "nbconvert_exporter": "python",
   "pygments_lexer": "ipython3",
   "version": "3.7.3"
  }
 },
 "nbformat": 4,
 "nbformat_minor": 1
}
