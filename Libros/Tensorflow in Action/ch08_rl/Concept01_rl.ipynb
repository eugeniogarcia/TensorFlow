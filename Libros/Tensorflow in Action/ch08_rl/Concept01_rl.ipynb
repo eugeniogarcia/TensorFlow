{
 "cells": [
  {
   "cell_type": "markdown",
   "metadata": {},
   "source": [
    "# Ch `08`: Concept `01`"
   ]
  },
  {
   "cell_type": "markdown",
   "metadata": {},
   "source": [
    "## Reinforcement learning"
   ]
  },
  {
   "cell_type": "markdown",
   "metadata": {},
   "source": [
    "The **states** are previous history of stock prices, current budget, and current number of shares of a stock.\n",
    "\n",
    "The **actions** are buy, sell, or hold (i.e. do nothing).\n",
    "\n",
    "The stock market data comes from the Yahoo Finance library, `pip install yahoo-finance`."
   ]
  },
  {
   "cell_type": "code",
   "execution_count": 1,
   "metadata": {},
   "outputs": [],
   "source": [
    "%matplotlib inline\n",
    "from yahoo_finance import Share\n",
    "from matplotlib import pyplot as plt\n",
    "import numpy as np\n",
    "import random\n",
    "import tensorflow as tf\n",
    "import random"
   ]
  },
  {
   "cell_type": "markdown",
   "metadata": {},
   "source": [
    "Define an abstract class called `DecisionPolicy`:"
   ]
  },
  {
   "cell_type": "code",
   "execution_count": 2,
   "metadata": {},
   "outputs": [],
   "source": [
    "#Clase padre que implementa una politica\n",
    "#No tiene construcctor, y es esencialmente virtual\n",
    "class DecisionPolicy:\n",
    "    #Implementa la politica para seleccionar una accion en funcion del estado\n",
    "    def select_action(self, current_state, step):\n",
    "        #Es el equivalente a virtual en C\n",
    "        pass\n",
    "\n",
    "    def update_q(self, state, action, reward, next_state):\n",
    "        #Es el equivalente a virtual en C\n",
    "        pass"
   ]
  },
  {
   "cell_type": "markdown",
   "metadata": {},
   "source": [
    "Here's one way we could implement the decision policy, called a random decision policy:"
   ]
  },
  {
   "cell_type": "code",
   "execution_count": 3,
   "metadata": {},
   "outputs": [],
   "source": [
    "class RandomDecisionPolicy(DecisionPolicy):\n",
    "    def __init__(self, actions):\n",
    "        #Crea una propiedad actions donde se guardaran las acciones posibles\n",
    "        self.actions = actions\n",
    "\n",
    "    #Elige una accion al azar\n",
    "    def select_action(self, current_state, step):\n",
    "        action = random.choice(self.actions)\n",
    "        return action"
   ]
  },
  {
   "cell_type": "markdown",
   "metadata": {},
   "source": [
    "That's a good baseline. Now let's use a smarter approach using a neural network:"
   ]
  },
  {
   "cell_type": "code",
   "execution_count": 4,
   "metadata": {},
   "outputs": [],
   "source": [
    "#Q es la utilidad\n",
    "#Determina cual es el valor a largo plazo\n",
    "#Q = Q + epsilon * (-Q + reward + gamma * maxQ')\n",
    "#si gamma es 0 lo que estamos diciendo es que la utilidad es la recompensa que obtenemos en un determinado\n",
    "#instante. Cuando mayor sea gamma, mas valor damos a mazimizar no la recopensa en un determinado momento, sino el valor a \n",
    "#largo plazo\n",
    "#\n",
    "#La red tiene como entrada el estado, y como salida la utilidad q que logramos con cada accion que tomamos\n",
    "#esto es, usando esta funcion no estamos basando la eleccion de una accion EN LA RECOMPENSA INMEDIATA, SINO EN \n",
    "#AQUELLO QUE AUMENTE Q, LA UTILIDAD, MÁS. El parametro gamma define cuan equivalente recompensa y q son\n",
    "class QLearningDecisionPolicy(DecisionPolicy):\n",
    "    #Constructor\n",
    "    def __init__(self, actions, input_dim):\n",
    "        #Q = reward + gamma * maxQ'\n",
    "        self.gamma = 0.3\n",
    "\n",
    "        #Epsilon es un valor que cuanto mas cercano a uno sea, mas probable se hace que se elija la accion en base\n",
    "        #a lo que diga nuestra RN. Si el valor es 1, siempre se usa la RN. Si .95, el 5% de las ocasiones eligiremos\n",
    "        #la accion al azar\n",
    "        self.epsilon = 0.95\n",
    "        \n",
    "        #Guarda las acciones posibles\n",
    "        self.actions = actions\n",
    "        \n",
    "        #Vamos a definir una red neuronal. La RN modelara la utilidad Q.\n",
    "        #Dado un estado, nos dira cual es la utilidad que podemos esperar para cada una de las acciones posibles\n",
    "        \n",
    "        #La red neuronal tendra como salida un vector con el valor de la funcion q para cada una de \n",
    "        #las acciones posibles. Esto es, con un estado de partida, la RN\n",
    "        #nos dira en cada salida cual es el valor de q tras tomar una determinada accion\n",
    "        output_dim = len(actions)\n",
    "        \n",
    "        #Salida desperada de la red neuronal. Q para cada accion\n",
    "        self.y = tf.placeholder(tf.float32, [output_dim])\n",
    "        \n",
    "        #Entrada a la red neuronal. Sera el vector que representa el estado\n",
    "        self.x = tf.placeholder(tf.float32, [None, input_dim])\n",
    "\n",
    "        #Capas intermedias - hidden\n",
    "        h1_dim = 20\n",
    "        #Parametros que podran aprenderse en la primera capa intermedia\n",
    "        W1 = tf.Variable(tf.random_normal([input_dim, h1_dim]))\n",
    "        b1 = tf.Variable(tf.constant(0.1, shape=[h1_dim]))\n",
    "        #Salida de la primera capa intermedia. Usa una activacion relu\n",
    "        h1 = tf.nn.relu(tf.matmul(self.x, W1) + b1)\n",
    "        \n",
    "        #Parametros que podran aprenderse en la segunda capa intermedia\n",
    "        W2 = tf.Variable(tf.random_normal([h1_dim, output_dim]))\n",
    "        b2 = tf.Variable(tf.constant(0.1, shape=[output_dim]))\n",
    "        \n",
    "        #Salida de la red neuronal. Usa una activacion relu\n",
    "        self.q = tf.nn.relu(tf.matmul(h1, W2) + b2)\n",
    "\n",
    "        #La funcion de error cuadratica\n",
    "        loss = tf.square(self.y - self.q)\n",
    "        \n",
    "        #Aprendizaje. Crea una propiedad en la que guardara el modelo de aprendizaje\n",
    "        self.train_op = tf.train.AdamOptimizer(0.001).minimize(loss)\n",
    "        \n",
    "        #Session. Ademas las variables de la sesion se han inicializado\n",
    "        self.sess = tf.Session()\n",
    "        self.sess.run(tf.global_variables_initializer())\n",
    "\n",
    "    #Define la policy\n",
    "    #La policy determina dado un estado, que accion debe tomarse\n",
    "    #\n",
    "    #     s -> a\n",
    "    #\n",
    "    #Se usa el parametro epsilon\n",
    "    #Step indica el paso que estamos simulando. Viene a ser el instante de tiempo\n",
    "    def select_action(self, current_state, step):\n",
    "        #EL threshold ira aumentando con cada paso, de modo que cuanto mayor sea el paso mas probable sera elegir\n",
    "        #la accion con la red neuronal. Al principio es mas probable que elijamos la accion al azar\n",
    "        threshold = min(self.epsilon, step / 1000.)\n",
    "        #Con este truco tratamos de paliar el overfitting\n",
    "        if random.random() < threshold:\n",
    "            #El criterio es simple, usar la accion que maximice la utilidad Q\n",
    "            #Utiliza la red neuronal para determinar la utilidad de cada accion\n",
    "            action_q_vals = self.sess.run(self.q, feed_dict={self.x: current_state})\n",
    "            #Elegimos la accion que de lugar a una utilidad, Q, maxima\n",
    "            action_idx = np.argmax(action_q_vals)  # TODO: replace w/ tensorflow's argmax\n",
    "            action = self.actions[action_idx]\n",
    "        else:\n",
    "            #\n",
    "            #Elige una accion al azar\n",
    "            action = self.actions[random.randint(0, len(self.actions) - 1)]\n",
    "        return action\n",
    "\n",
    "    #En este metodo lo que vamos a hacer es entrenar la RN. Este es el corazon del Reinforce Learning\n",
    "    #Hay un aprendizaje que no esta basado en un training data, pero en nuestra experiencia, lo que percibimos\n",
    "    #Lo que queremos es aprender a calcular la utilidad que podemos conseguir con una determinada accion \n",
    "    #cuando nuestro estado es uno dado\n",
    "    #PAra entrenar a la RN necesitamos definir un valor esperado. Lo definimos usando una funcion que \"entendemos\"\n",
    "    #modela la utilidad de forma correcta. En nuestro caso:\n",
    "    #Q = reward + gamma * maxQ'\n",
    "    #En un juego de ajedrez, por ejemplo, esta funcion modelaria cual es el valor de nuestra partida cuando tomamos\n",
    "    #una determinada accion. Necesitariamos \n",
    "    #1. Saber el valor en cada momento la posicion del tablero. En nuestro ejercio la posicion de nuestro tablero es\n",
    "    # el valor del portfolio, calculado como el budget -cash - mas el valor de las acciones que tenemos\n",
    "    #2. En cada simulacion lo que hariamos es ir haciendo en cada instante un movimiento, evaluar la posicion del tablero, \n",
    "    #entrenar la red, evaluar el siguiente movimiento, y asi hasta terminar la partida. Una simulacion seria una partida\n",
    "    #En nuestro ejemplo, en cada partida evaluamos como evolucionario nuestro portfolio cada dia si fueramos tomando \n",
    "    #determinadas acciones. Al final de la simulacion habriamos llegado al ultimo dia del periodo \n",
    "    #\n",
    "    # s + a -> q\n",
    "    #\n",
    "    def update_q(self, state, action, reward, next_state):\n",
    "        \n",
    "        #Dado el estado actual, utiliza la RN para obtener la Q que la red predice para cada accion\n",
    "        #No estamos entrenando la RN, estamos usando el kernel y bias actual para calcular la acción\n",
    "        action_q_vals = self.sess.run(self.q, feed_dict={self.x: state})\n",
    "        \n",
    "        #1. Calcula maxQ\n",
    "        #hace lo mismo que antes, pero usando el siguiente estado\n",
    "        next_action_q_vals = self.sess.run(self.q, feed_dict={self.x: next_state})\n",
    "        #Determina cual seria el valor maximo de Q en el siguiente estado\n",
    "        next_action_idx = np.argmax(next_action_q_vals)\n",
    "        \n",
    "        #Obtiene cual es la accion que acabamos de usar (entrada a esta funcion)\n",
    "        current_action_idx = self.actions.index(action)\n",
    "        \n",
    "        #2. Calcula cual sera el nuevo Q para (s,a,r,s') segun la formula Q = reward + gamma * maxQ'\n",
    "        action_q_vals[0, current_action_idx] = reward + self.gamma * next_action_q_vals[0, next_action_idx]\n",
    "        action_q_vals = np.squeeze(np.asarray(action_q_vals))\n",
    "\n",
    "        #3. Entrena la RN con el estado y el valor calculado de Q\n",
    "        #De esta forma, la RN aprende a calcular el valor de la Q definida como Q = reward + gamma * maxQ'\n",
    "        self.sess.run(self.train_op, feed_dict={self.x: state, self.y: action_q_vals})"
   ]
  },
  {
   "cell_type": "markdown",
   "metadata": {},
   "source": [
    "Define a function to run a simulation of buying and selling stocks from a market:"
   ]
  },
  {
   "cell_type": "code",
   "execution_count": 5,
   "metadata": {},
   "outputs": [],
   "source": [
    "#Devuelve el valor total de nuestro portfolio. Esto es, la suma del cash mas el valor de las acciones\n",
    "# initial_budget, initial_num_stocks\n",
    "#el cash inicial, y el numero de acciones iniciales\n",
    "# prices\n",
    "# La evolucion del precio de la accion a lo largo del tiempo\n",
    "# hist\n",
    "# A la hora de tomar decisiones con nuestra politica, utilizaremos el precio de la accion en el pasado. hist\n",
    "#define cuantos periodos atras nos remontaremos. 1 significaria que tomamos decisiones con la politica usando\n",
    "#el precio de la accion en el dia anterior. 2, significaria que usamos el precio en los dos dias antereiores\n",
    "#\n",
    "#En la primera ejecucion de la simulacion, y en el primer paso, la politica determinara la accion usando unos pesos\n",
    "#que no se han entrenado en absoluto\n",
    "#A medida que ejecutamos simulaciones vamos entrenando esta RN, con lo que deberiamos ver que el valor de nuestro portofolio\n",
    "#deberia incrementarse\n",
    "def run_simulation(policy, initial_budget, initial_num_stocks, prices, hist, debug=False):\n",
    "    #El estado es una lista formada por hist precios de la accion, el presupuesto y el numero de acciones\n",
    "    #Presupuesto al inicio\n",
    "    budget = initial_budget\n",
    "    #Numero de acciones al inicio\n",
    "    num_stocks = initial_num_stocks\n",
    "    #precio de la accion al inicio\n",
    "    share_value = 0\n",
    "    \n",
    "    transitions = list()\n",
    "    #para cada uno de los instantes para los que tenemos precios, \n",
    "    #1. determinara el estado\n",
    "    #2. y con el estado cual es la accion a tomar\n",
    "    #3. Con la accion determina cual es la reward y el siguiente estado\n",
    "    #\n",
    "    for i in range(len(prices) - hist - 1):\n",
    "        if i % 1000 == 0:\n",
    "            print('progress {:.2f}%'.format(float(100*i) / (len(prices) - hist - 1)))\n",
    "        \n",
    "        #1. Determina cual es el estado actual. \n",
    "        #Sera un vector de hist + 2 dimensiones. \n",
    "        #Las dos ultimas dimensiones son el cash y el numero de acciones\n",
    "        #las primeras hist posiciones son el precio de la accion en los instantes x a x+hist\n",
    "        current_state = np.asmatrix(np.hstack((prices[i:i+hist], budget, num_stocks)))\n",
    "        \n",
    "        #El portfolio se define como el valor monetario: cash mas el valor de las acciones\n",
    "        #El reward de una determinada accion se define como el cambio de valor del portfolio\n",
    "        current_portfolio = budget + num_stocks * share_value\n",
    "        \n",
    "        #2. Con el estado, seleccionamos la accion\n",
    "        action = policy.select_action(current_state, i)\n",
    "        \n",
    "        #3. Calculamos el reward\n",
    "        share_value = float(prices[i + hist])\n",
    "        if action == 'Buy' and budget >= share_value:\n",
    "            budget -= share_value\n",
    "            num_stocks += 1\n",
    "        elif action == 'Sell' and num_stocks > 0:\n",
    "            budget += share_value\n",
    "            num_stocks -= 1\n",
    "        else:\n",
    "            action = 'Hold'\n",
    "        new_portfolio = budget + num_stocks * share_value\n",
    "        reward = new_portfolio - current_portfolio\n",
    "        \n",
    "        #3. y calculamos el siguiente estado. Notese que los precios de la accion corresponden a un instante mas tarde\n",
    "        next_state = np.asmatrix(np.hstack((prices[i+1:i+hist+1], budget, num_stocks)))\n",
    "        \n",
    "        #Guardamos en la lista de transicciones el: estado actual, la accion que hemos elegido, la recompensa que la accion\n",
    "        #genero, y el nuevo estado (s, a, r, s')\n",
    "        transitions.append((current_state, action, reward, next_state))\n",
    "        \n",
    "        #Llamamos a la funcion que adiestra la RN \n",
    "        policy.update_q(current_state, action, reward, next_state)\n",
    "\n",
    "    portfolio = budget + num_stocks * share_value\n",
    "    if debug:\n",
    "        print('${}\\t{} shares'.format(budget, num_stocks))\n",
    "    return portfolio"
   ]
  },
  {
   "cell_type": "markdown",
   "metadata": {},
   "source": [
    "We want to run simulations multiple times and average out the performances:"
   ]
  },
  {
   "cell_type": "code",
   "execution_count": 6,
   "metadata": {},
   "outputs": [],
   "source": [
    "def run_simulations(policy, budget, num_stocks, prices, hist):\n",
    "    #Numero de veces que lanzara la simulacion\n",
    "    #Cada simulacion viene a aplicar desde el primer dia hasta el ultimo la politica para ver cual es la Q que obtendriamos\n",
    "    #En este proceso entrenamos a nuestra RN para que aprenda a calcular la Q de una determinada accion\n",
    "    num_tries = 5\n",
    "    final_portfolios = list()\n",
    "    for i in range(num_tries):\n",
    "        print('Running simulation {}...'.format(i + 1))\n",
    "        #Obtiene el portfolio de la interaccion\n",
    "        final_portfolio = run_simulation(policy, budget, num_stocks, prices, hist)\n",
    "        final_portfolios.append(final_portfolio)\n",
    "        print('Final portfolio: ${}'.format(final_portfolio))\n",
    "    plt.title('Final Portfolio Value')\n",
    "    plt.xlabel('Simulation #')\n",
    "    plt.ylabel('Net worth')\n",
    "    plt.plot(final_portfolios)\n",
    "    plt.show()"
   ]
  },
  {
   "cell_type": "markdown",
   "metadata": {},
   "source": [
    "Call the following function to use the Yahoo Finance library and obtain useful stockmarket data. "
   ]
  },
  {
   "cell_type": "code",
   "execution_count": 7,
   "metadata": {},
   "outputs": [],
   "source": [
    "def get_prices(share_symbol, start_date, end_date, cache_filename='stock_prices.npy'):\n",
    "    try:\n",
    "        #Carga el dataset desde el archivo. Si el archivo no existiera se lanza una exception...\n",
    "        stock_prices = np.load(cache_filename)\n",
    "    except IOError:\n",
    "        #... y procederemos a crear el archivo\n",
    "        #Obtiene precios usando la libreria...\n",
    "        share = Share(share_symbol)\n",
    "        #...recupera el historico de precios\n",
    "        stock_hist = share.get_historical(start_date, end_date)\n",
    "        #Crea una lista con el precio de apertura de la accion\n",
    "        stock_prices = [stock_price['Open'] for stock_price in stock_hist]\n",
    "        #...y escribe en el archivo la lista\n",
    "        np.save(cache_filename, stock_prices)\n",
    "    #Hace un cast a float de los elementos de la lista\n",
    "    return stock_prices.astype(float)"
   ]
  },
  {
   "cell_type": "markdown",
   "metadata": {},
   "source": [
    "Who wants to deal with stock market data without looking a pretty plots? No one. So we need this out of law:"
   ]
  },
  {
   "cell_type": "code",
   "execution_count": 8,
   "metadata": {},
   "outputs": [],
   "source": [
    "#Dibuja los precios\n",
    "def plot_prices(prices):\n",
    "    plt.title('Opening stock prices')\n",
    "    plt.xlabel('day')\n",
    "    plt.ylabel('price ($)')\n",
    "    plt.plot(prices)\n",
    "    #Guarda el grafico\n",
    "    plt.savefig('prices.png')\n",
    "    plt.show()"
   ]
  },
  {
   "cell_type": "markdown",
   "metadata": {},
   "source": [
    "Train a reinforcement learning policy:"
   ]
  },
  {
   "cell_type": "code",
   "execution_count": null,
   "metadata": {},
   "outputs": [
    {
     "data": {
      "image/png": "[encoded data removed]",
      "text/plain": [
       "<Figure size 432x288 with 1 Axes>"
      ]
     },
     "metadata": {
      "needs_background": "light"
     },
     "output_type": "display_data"
    },
    {
     "name": "stdout",
     "output_type": "stream",
     "text": [
      "WARNING:tensorflow:From C:\\Users\\Eugenio\\Anaconda3\\lib\\site-packages\\tensorflow\\python\\framework\\op_def_library.py:263: colocate_with (from tensorflow.python.framework.ops) is deprecated and will be removed in a future version.\n",
      "Instructions for updating:\n",
      "Colocations handled automatically by placer.\n",
      "Running simulation 1...\n",
      "progress 0.00%\n",
      "progress 16.55%\n",
      "progress 33.10%\n",
      "progress 49.64%\n",
      "progress 66.19%\n",
      "progress 82.74%\n",
      "progress 99.29%\n",
      "Final portfolio: $85243.69805100014\n",
      "Running simulation 2...\n",
      "progress 0.00%\n",
      "progress 16.55%\n",
      "progress 33.10%\n",
      "progress 49.64%\n",
      "progress 66.19%\n",
      "progress 82.74%\n",
      "progress 99.29%\n",
      "Final portfolio: $217634.22995700032\n",
      "Running simulation 3...\n",
      "progress 0.00%\n",
      "progress 16.55%\n"
     ]
    }
   ],
   "source": [
    "#Funcion de entrada al modulo\n",
    "if __name__ == '__main__':\n",
    "    #Obtiene la lista de precios para MFT entre las fechas indicadas\n",
    "    prices = get_prices('MSFT', '1992-07-22', '2016-07-22')\n",
    "    #Representa los precios de la accion\n",
    "    plot_prices(prices)\n",
    "    \n",
    "    #Definimos las acciones de nuestro modelo. Son tres\n",
    "    actions = ['Buy', 'Sell', 'Hold']\n",
    "    hist = 3\n",
    "    \n",
    "    #Este es el metodo en el que se eligen las acciones al azar\n",
    "    # policy = RandomDecisionPolicy(actions)\n",
    "    #En este metodo se eligen las acciones usando una RN. La dimension del vector de entrada para la red neuronal\n",
    "    #es cinco. Esto significa que sutilizan cinco estados para entrenar la RN en cual es la accion que debe tomarse\n",
    "    policy = QLearningDecisionPolicy(actions, hist + 2)\n",
    "    \n",
    "    budget = 100000.0\n",
    "    num_stocks = 0\n",
    "    run_simulations(policy, budget, num_stocks, prices, hist)"
   ]
  }
 ],
 "metadata": {
  "kernelspec": {
   "display_name": "Python 3",
   "language": "python",
   "name": "python3"
  },
  "language_info": {
   "codemirror_mode": {
    "name": "ipython",
    "version": 3
   },
   "file_extension": ".py",
   "mimetype": "text/x-python",
   "name": "python",
   "nbconvert_exporter": "python",
   "pygments_lexer": "ipython3",
   "version": "3.7.3"
  }
 },
 "nbformat": 4,
 "nbformat_minor": 1
}
