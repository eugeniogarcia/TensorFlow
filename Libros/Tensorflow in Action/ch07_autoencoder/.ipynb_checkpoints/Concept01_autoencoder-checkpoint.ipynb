{
 "cells": [
  {
   "cell_type": "markdown",
   "metadata": {},
   "source": [
    "## Ch `07`: Concept `01`"
   ]
  },
  {
   "cell_type": "markdown",
   "metadata": {},
   "source": [
    "## Autoencoder"
   ]
  },
  {
   "cell_type": "markdown",
   "metadata": {},
   "source": [
    "All we'll need is TensorFlow and NumPy:"
   ]
  },
  {
   "cell_type": "code",
   "execution_count": 1,
   "metadata": {},
   "outputs": [],
   "source": [
    "import tensorflow as tf\n",
    "import numpy as np"
   ]
  },
  {
   "cell_type": "markdown",
   "metadata": {},
   "source": [
    "Instead of feeding all the training data to the training op, we will feed data in small batches:"
   ]
  },
  {
   "cell_type": "code",
   "execution_count": 2,
   "metadata": {},
   "outputs": [],
   "source": [
    "def get_batch(X, size):\n",
    "    a = np.random.choice(len(X), size, replace=False)\n",
    "    return X[a]"
   ]
  },
  {
   "cell_type": "markdown",
   "metadata": {},
   "source": [
    "Define the autoencoder class:"
   ]
  },
  {
   "cell_type": "code",
   "execution_count": 3,
   "metadata": {},
   "outputs": [],
   "source": [
    "class Autoencoder:\n",
    "    def __init__(self, input_dim, hidden_dim, epoch=500, batch_size=10, learning_rate=0.001):\n",
    "        self.epoch = epoch\n",
    "        self.batch_size = batch_size\n",
    "        self.learning_rate = learning_rate\n",
    "\n",
    "        # Define input placeholder\n",
    "        # Vector de entrada. La dimension del vector es input_dim\n",
    "        x = tf.placeholder(dtype=tf.float32, shape=[None, input_dim])\n",
    "        \n",
    "        # Define variables\n",
    "        #Capa oculta\n",
    "        with tf.name_scope('encode'):\n",
    "            weights = tf.Variable(tf.random_normal([input_dim, hidden_dim], dtype=tf.float32), name='weights')\n",
    "            biases = tf.Variable(tf.zeros([hidden_dim]), name='biases')\n",
    "            encoded = tf.nn.sigmoid(tf.matmul(x, weights) + biases)\n",
    "            #Salida oculta usa sigmoid como funcion de activacion. x*w+b es la salida de la capa oculta\n",
    "        #Capa de salida\n",
    "        with tf.name_scope('decode'):\n",
    "            weights = tf.Variable(tf.random_normal([hidden_dim, input_dim], dtype=tf.float32), name='weights')\n",
    "            biases = tf.Variable(tf.zeros([input_dim]), name='biases')\n",
    "            decoded = tf.matmul(encoded, weights) + biases\n",
    "            #No se usa ninguna función de activación, esto es, la función de activación es la identidad\n",
    "\n",
    "        #Guardamos estos tres placeholders para poder utilizalos desde la clase\n",
    "        self.x = x\n",
    "        self.encoded = encoded\n",
    "        self.decoded = decoded\n",
    "\n",
    "        # Define cost function and training op\n",
    "        self.loss = tf.sqrt(tf.reduce_mean(tf.square(tf.subtract(self.x, self.decoded))))\n",
    "\n",
    "        self.all_loss = tf.sqrt(tf.reduce_mean(tf.square(tf.subtract(self.x, self.decoded)), 1))\n",
    "        self.train_op = tf.train.AdamOptimizer(self.learning_rate).minimize(self.loss)\n",
    "        \n",
    "        # Define a saver op\n",
    "        self.saver = tf.train.Saver()\n",
    "\n",
    "    def train(self, data):\n",
    "        with tf.Session() as sess:\n",
    "            sess.run(tf.global_variables_initializer())\n",
    "            for i in range(self.epoch):\n",
    "                for j in range(500):\n",
    "                    batch_data = get_batch(data, self.batch_size)\n",
    "                    l, _ = sess.run([self.loss, self.train_op], feed_dict={self.x: batch_data})\n",
    "                if i % 50 == 0:\n",
    "                    print('epoch {0}: loss = {1}'.format(i, l))\n",
    "                    #Guarda periodicamente, cada 50 epochs\n",
    "                    self.saver.save(sess, './model.ckpt')\n",
    "            #Guarda al terminar el entrenamiento\n",
    "            self.saver.save(sess, './model.ckpt')\n",
    "        \n",
    "    def test(self, data):\n",
    "        with tf.Session() as sess:\n",
    "            #Recupera los paramentros\n",
    "            self.saver.restore(sess, './model.ckpt')\n",
    "            #Ejecuta el grafo con este diccionario - placeholder values\n",
    "            hidden, reconstructed = sess.run([self.encoded, self.decoded], feed_dict={self.x: data})\n",
    "        print('input', data)\n",
    "        print('compressed', hidden)\n",
    "        print('reconstructed', reconstructed)\n",
    "        return reconstructed\n",
    "\n",
    "    def get_params(self):\n",
    "        with tf.Session() as sess:\n",
    "            #Recupera los paramentros\n",
    "            self.saver.restore(sess, './model.ckpt')\n",
    "            #Obtiene de la sesión los valores de las variables\n",
    "            weights, biases = sess.run([self.weights1, self.biases1])\n",
    "        return weights, biases\n",
    "\n",
    "    def classify(self, data, labels):\n",
    "        with tf.Session() as sess:\n",
    "            #Recupera los paramentros\n",
    "            sess.run(tf.global_variables_initializer())\n",
    "            self.saver.restore(sess, './model.ckpt')\n",
    "            #Ejecuta el grafo con este diccionario - placeholder values\n",
    "            hidden, reconstructed = sess.run([self.encoded, self.decoded], feed_dict={self.x: data})\n",
    "            reconstructed = reconstructed[0]\n",
    "            # loss = sess.run(self.all_loss, feed_dict={self.x: data})\n",
    "            print('data', np.shape(data))\n",
    "            print('reconstructed', np.shape(reconstructed))\n",
    "            loss = np.sqrt(np.mean(np.square(data - reconstructed), axis=1))\n",
    "            print('loss', np.shape(loss))\n",
    "            horse_indices = np.where(labels == 7)[0]\n",
    "            not_horse_indices = np.where(labels != 7)[0]\n",
    "            horse_loss = np.mean(loss[horse_indices])\n",
    "            not_horse_loss = np.mean(loss[not_horse_indices])\n",
    "            print('horse', horse_loss)\n",
    "            print('not horse', not_horse_loss)\n",
    "            return hidden[7,:]\n",
    "\n",
    "    def decode(self, encoding):\n",
    "        with tf.Session() as sess:\n",
    "            sess.run(tf.global_variables_initializer())\n",
    "            self.saver.restore(sess, './model.ckpt')\n",
    "            reconstructed = sess.run(self.decoded, feed_dict={self.encoded: encoding})\n",
    "        img = np.reshape(reconstructed, (32, 32))\n",
    "        return img\n"
   ]
  },
  {
   "cell_type": "markdown",
   "metadata": {},
   "source": [
    "The *Iris dataset* is often used as a simple training dataset to check whether a classification algorithm is working. The sklearn library comes with it, `pip install sklearn`."
   ]
  },
  {
   "cell_type": "code",
   "execution_count": 4,
   "metadata": {},
   "outputs": [
    {
     "name": "stdout",
     "output_type": "stream",
     "text": [
      "WARNING:tensorflow:From C:\\Users\\Eugenio\\Anaconda3\\lib\\site-packages\\tensorflow\\python\\framework\\op_def_library.py:263: colocate_with (from tensorflow.python.framework.ops) is deprecated and will be removed in a future version.\n",
      "Instructions for updating:\n",
      "Colocations handled automatically by placer.\n",
      "epoch 0: loss = 2.9299817085266113\n",
      "epoch 50: loss = 0.3693685829639435\n",
      "epoch 100: loss = 0.32111430168151855\n",
      "epoch 150: loss = 0.3467192053794861\n",
      "epoch 200: loss = 0.21504689753055573\n",
      "epoch 250: loss = 0.24919958412647247\n",
      "epoch 300: loss = 0.21043337881565094\n",
      "epoch 350: loss = 0.3348221480846405\n",
      "epoch 400: loss = 0.3286809027194977\n",
      "epoch 450: loss = 0.23562279343605042\n",
      "WARNING:tensorflow:From C:\\Users\\Eugenio\\Anaconda3\\lib\\site-packages\\tensorflow\\python\\training\\saver.py:1266: checkpoint_exists (from tensorflow.python.training.checkpoint_management) is deprecated and will be removed in a future version.\n",
      "Instructions for updating:\n",
      "Use standard file APIs to check for files with this prefix.\n",
      "INFO:tensorflow:Restoring parameters from ./model.ckpt\n",
      "input [[8, 4, 6, 2]]\n",
      "compressed [[0.72228616]]\n",
      "reconstructed [[6.878051  2.8101623 6.2228355 2.2276075]]\n"
     ]
    },
    {
     "data": {
      "text/plain": [
       "array([[6.878051 , 2.8101623, 6.2228355, 2.2276075]], dtype=float32)"
      ]
     },
     "execution_count": 4,
     "metadata": {},
     "output_type": "execute_result"
    }
   ],
   "source": [
    "from sklearn import datasets\n",
    "\n",
    "hidden_dim = 1\n",
    "data = datasets.load_iris().data\n",
    "input_dim = len(data[0])\n",
    "ae = Autoencoder(input_dim, hidden_dim)\n",
    "ae.train(data)\n",
    "ae.test([[8, 4, 6, 2]])"
   ]
  }
 ],
 "metadata": {
  "kernelspec": {
   "display_name": "Python 3",
   "language": "python",
   "name": "python3"
  },
  "language_info": {
   "codemirror_mode": {
    "name": "ipython",
    "version": 3
   },
   "file_extension": ".py",
   "mimetype": "text/x-python",
   "name": "python",
   "nbconvert_exporter": "python",
   "pygments_lexer": "ipython3",
   "version": "3.7.3"
  }
 },
 "nbformat": 4,
 "nbformat_minor": 1
}
